{
 "cells": [
  {
   "cell_type": "code",
   "execution_count": 1,
   "id": "583993c8",
   "metadata": {},
   "outputs": [],
   "source": [
    "import pandas as pd\n",
    "import numpy"
   ]
  },
  {
   "cell_type": "code",
   "execution_count": 2,
   "id": "9944e852",
   "metadata": {},
   "outputs": [],
   "source": [
    "#檔案匯入\n",
    "original_data = pd.read_csv(\"C:\\\\交易資料集.csv\")"
   ]
  },
  {
   "cell_type": "code",
   "execution_count": 3,
   "id": "41eab81b",
   "metadata": {},
   "outputs": [],
   "source": [
    "#data pre-processing\n",
    "original_data = original_data[original_data.QUANTITY >0] #數量為零或負值的交易代表退貨或註銷，應於前置處理中剔除\n",
    "original_data = original_data[[\"ITEM_ID\", \"INVOICE_NO\"]]\n",
    "\n",
    "#取得商品清單\n",
    "original_items = original_data[[\"ITEM_ID\"]] \n",
    "items = original_items.drop_duplicates()"
   ]
  },
  {
   "cell_type": "code",
   "execution_count": 4,
   "id": "721a3303",
   "metadata": {},
   "outputs": [],
   "source": [
    "#資料分組(以發票號碼分組)\n",
    "X = original_data.groupby(by=[\"INVOICE_NO\"])\n",
    "X = X.groups\n",
    "\n",
    "invoice_no = []\n",
    "items = []\n",
    "for key in X:\n",
    "    item = []\n",
    "    for value in X.get(key):\n",
    "        item.append(original_data.at[value, \"ITEM_ID\"])\n",
    "    invoice_no.append(key)\n",
    "    items.append(item)"
   ]
  },
  {
   "cell_type": "code",
   "execution_count": 5,
   "id": "fbcd0b29",
   "metadata": {
    "scrolled": true
   },
   "outputs": [
    {
     "data": {
      "text/html": [
       "<div>\n",
       "<style scoped>\n",
       "    .dataframe tbody tr th:only-of-type {\n",
       "        vertical-align: middle;\n",
       "    }\n",
       "\n",
       "    .dataframe tbody tr th {\n",
       "        vertical-align: top;\n",
       "    }\n",
       "\n",
       "    .dataframe thead th {\n",
       "        text-align: right;\n",
       "    }\n",
       "</style>\n",
       "<table border=\"1\" class=\"dataframe\">\n",
       "  <thead>\n",
       "    <tr style=\"text-align: right;\">\n",
       "      <th></th>\n",
       "      <th>invoice_no</th>\n",
       "      <th>items</th>\n",
       "    </tr>\n",
       "  </thead>\n",
       "  <tbody>\n",
       "    <tr>\n",
       "      <th>0</th>\n",
       "      <td>1616070000/79213916</td>\n",
       "      <td>[14690914]</td>\n",
       "    </tr>\n",
       "    <tr>\n",
       "      <th>1</th>\n",
       "      <td>1616070001/79213917</td>\n",
       "      <td>[14890019]</td>\n",
       "    </tr>\n",
       "    <tr>\n",
       "      <th>2</th>\n",
       "      <td>1616070002</td>\n",
       "      <td>[15436269, 15471069, 15245997, 15436261, 15547...</td>\n",
       "    </tr>\n",
       "    <tr>\n",
       "      <th>3</th>\n",
       "      <td>1616070003</td>\n",
       "      <td>[15589015, 15586998, 15547003]</td>\n",
       "    </tr>\n",
       "    <tr>\n",
       "      <th>4</th>\n",
       "      <td>1616070004</td>\n",
       "      <td>[15436253, 15245997, 15471069, 15471068]</td>\n",
       "    </tr>\n",
       "    <tr>\n",
       "      <th>...</th>\n",
       "      <td>...</td>\n",
       "      <td>...</td>\n",
       "    </tr>\n",
       "    <tr>\n",
       "      <th>36493</th>\n",
       "      <td>W016079134</td>\n",
       "      <td>[145586]</td>\n",
       "    </tr>\n",
       "    <tr>\n",
       "      <th>36494</th>\n",
       "      <td>W016079135</td>\n",
       "      <td>[70841]</td>\n",
       "    </tr>\n",
       "    <tr>\n",
       "      <th>36495</th>\n",
       "      <td>W016079136</td>\n",
       "      <td>[70841]</td>\n",
       "    </tr>\n",
       "    <tr>\n",
       "      <th>36496</th>\n",
       "      <td>W016079137</td>\n",
       "      <td>[3312988]</td>\n",
       "    </tr>\n",
       "    <tr>\n",
       "      <th>36497</th>\n",
       "      <td>W016079138</td>\n",
       "      <td>[14929932]</td>\n",
       "    </tr>\n",
       "  </tbody>\n",
       "</table>\n",
       "<p>36498 rows × 2 columns</p>\n",
       "</div>"
      ],
      "text/plain": [
       "                invoice_no                                              items\n",
       "0      1616070000/79213916                                         [14690914]\n",
       "1      1616070001/79213917                                         [14890019]\n",
       "2               1616070002  [15436269, 15471069, 15245997, 15436261, 15547...\n",
       "3               1616070003                     [15589015, 15586998, 15547003]\n",
       "4               1616070004           [15436253, 15245997, 15471069, 15471068]\n",
       "...                    ...                                                ...\n",
       "36493           W016079134                                           [145586]\n",
       "36494           W016079135                                            [70841]\n",
       "36495           W016079136                                            [70841]\n",
       "36496           W016079137                                          [3312988]\n",
       "36497           W016079138                                         [14929932]\n",
       "\n",
       "[36498 rows x 2 columns]"
      ]
     },
     "execution_count": 5,
     "metadata": {},
     "output_type": "execute_result"
    }
   ],
   "source": [
    "#模型資料\n",
    "data = {\n",
    "    \"invoice_no\": invoice_no,\n",
    "    \"items\": items\n",
    "}\n",
    "data = pd.DataFrame(data)\n",
    "\n",
    "data"
   ]
  }
 ],
 "metadata": {
  "kernelspec": {
   "display_name": "Python 3 (ipykernel)",
   "language": "python",
   "name": "python3"
  },
  "language_info": {
   "codemirror_mode": {
    "name": "ipython",
    "version": 3
   },
   "file_extension": ".py",
   "mimetype": "text/x-python",
   "name": "python",
   "nbconvert_exporter": "python",
   "pygments_lexer": "ipython3",
   "version": "3.9.7"
  }
 },
 "nbformat": 4,
 "nbformat_minor": 5
}
